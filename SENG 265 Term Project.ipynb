{
 "cells": [
  {
   "cell_type": "code",
   "execution_count": null,
   "id": "dde82008",
   "metadata": {},
   "outputs": [],
   "source": [
    "SENG 265 Term Project\n",
    "\n",
    "Welsey Ducharme\n",
    "V00974267\n",
    "wducharme\n",
    "\n",
    "Question 1:\n",
    "    \n",
    "Question 2:\n",
    "    \n",
    "Question 3:\n",
    "\n",
    "Question 4:\n",
    "\n",
    "Question 5:\n",
    "\n",
    "Question 6:\n",
    "    \n",
    "Question 7:\n",
    "    \n",
    "Question 8:\n",
    "    \n",
    "Question 9:\n",
    "\n",
    "Question 10:\n",
    "\n",
    "Question 11:\n",
    "\n",
    "Question 12:\n",
    "    \n",
    "Question 13:\n",
    "    \n",
    "Question 14:\n",
    "    \n",
    "Question 15:\n",
    "\n",
    "Question 16:\n",
    "\n",
    "Question 17:\n",
    "\n",
    "Question 18:\n",
    "    \n",
    "Question 19:\n",
    "    \n",
    "Question 20:\n",
    "    \n",
    "Question 21:\n"
   ]
  }
 ],
 "metadata": {
  "kernelspec": {
   "display_name": "Python 3 (ipykernel)",
   "language": "python",
   "name": "python3"
  },
  "language_info": {
   "codemirror_mode": {
    "name": "ipython",
    "version": 3
   },
   "file_extension": ".py",
   "mimetype": "text/x-python",
   "name": "python",
   "nbconvert_exporter": "python",
   "pygments_lexer": "ipython3",
   "version": "3.11.5"
  }
 },
 "nbformat": 4,
 "nbformat_minor": 5
}
